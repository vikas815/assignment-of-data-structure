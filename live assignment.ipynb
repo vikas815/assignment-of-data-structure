{
 "cells": [
  {
   "cell_type": "code",
   "execution_count": 1,
   "id": "a0a43dfb-d01f-4ed8-b3ce-47d8ee403bd7",
   "metadata": {},
   "outputs": [
    {
     "data": {
      "text/plain": [
       "'nahom'"
      ]
     },
     "execution_count": 1,
     "metadata": {},
     "output_type": "execute_result"
    }
   ],
   "source": [
    "#Q1 write a code to reverse a string.\n",
    "s=\"mohan\"\n",
    "s[::-1]\n",
    "\n",
    "\n"
   ]
  },
  {
   "cell_type": "code",
   "execution_count": 2,
   "id": "9391c49e-bea1-478f-b1e3-27b41f673e6e",
   "metadata": {},
   "outputs": [
    {
     "name": "stdout",
     "output_type": "stream",
     "text": [
      "a : 2\n",
      "e : 1\n",
      "o : 1\n",
      "u : 1\n"
     ]
    }
   ],
   "source": [
    "#Q2. Write a code to count the number of vowels in a string.\n",
    "s=\"ramaoue\"\n",
    "v=\"aieou\"\n",
    "k=0\n",
    "for i in v:\n",
    "    if i  in s:\n",
    "        j=s.count(i)\n",
    "        print(i ,\":\" ,j)\n",
    "       \n",
    "        \n",
    "    "
   ]
  },
  {
   "cell_type": "code",
   "execution_count": 3,
   "id": "cfdbcac3-9cf0-40c3-ae9f-f5db724871b5",
   "metadata": {},
   "outputs": [
    {
     "name": "stdout",
     "output_type": "stream",
     "text": [
      "String is Palindromic\n"
     ]
    }
   ],
   "source": [
    "#Q3. Write a code to check if a given strings is a palindromic or not\n",
    "s=\"madam\"\n",
    "n=len(s)\n",
    "for i in range(0,n//2):\n",
    "    if(s[i]==s[n-i-1]):\n",
    "        print(\"String is Palindromic\")\n",
    "        break\n",
    "    else:\n",
    "        print(\"given string is not palindromic\")\n",
    "        break\n"
   ]
  },
  {
   "cell_type": "code",
   "execution_count": 4,
   "id": "2276b634-e2d3-40b5-bf38-a4cdcafd4bbb",
   "metadata": {},
   "outputs": [
    {
     "name": "stdout",
     "output_type": "stream",
     "text": [
      "String is anagrams !\n"
     ]
    }
   ],
   "source": [
    "#Q4 Write a code  to check if two given strings are anagrams of each other.\n",
    "s=\"ram\"\n",
    "s1=\"mar\"\n",
    "if(sorted(s)==sorted(s1)):\n",
    "    print(\"String is anagrams !\")\n",
    "else:\n",
    "    print(\"String is not anagrams !\")"
   ]
  },
  {
   "cell_type": "code",
   "execution_count": 5,
   "id": "90b7cf10-4b49-48d7-8f98-f184ce0014b3",
   "metadata": {},
   "outputs": [
    {
     "name": "stdout",
     "output_type": "stream",
     "text": [
      "1 8 "
     ]
    }
   ],
   "source": [
    "#Q5. Write a code to find all occurrence  of a given substring within another string\n",
    "s=\"helloforell\"\n",
    "s1=\"ell\"\n",
    "f=False\n",
    "for i in range(len(s)):\n",
    "    if(s[i:i+len(s1)]==s1):\n",
    "        print(i, end =\" \")\n",
    "        f=True\n",
    "if(f==False):\n",
    "    print(\"None\")\n",
    "    "
   ]
  },
  {
   "cell_type": "code",
   "execution_count": 6,
   "id": "18011fb2-a38a-4afb-9349-d9a41fbf7fc7",
   "metadata": {},
   "outputs": [
    {
     "name": "stdout",
     "output_type": "stream",
     "text": [
      "{'a': 2, 'b': 2, 'c': 2}\n"
     ]
    }
   ],
   "source": [
    "#Q6 Write a code to perform basic string compression using the counts of repeated characters.\n",
    "s=\"abbacc\"\n",
    "s1={}\n",
    "for i in s:\n",
    "    if i in s1:\n",
    "        s1[i]+=1\n",
    "    else:\n",
    "        s1[i]=1\n",
    "print(s1)"
   ]
  },
  {
   "cell_type": "code",
   "execution_count": 7,
   "id": "25a757e7-cc5e-40cb-86e2-93fe9b20208c",
   "metadata": {},
   "outputs": [
    {
     "name": "stdin",
     "output_type": "stream",
     "text": [
      "enter the string 345\n"
     ]
    },
    {
     "name": "stdout",
     "output_type": "stream",
     "text": [
      "True\n"
     ]
    }
   ],
   "source": [
    "# Q7. Write a code to determine if a string has all uique characters.\n",
    "s=input(\"enter the string\")\n",
    "s1=set(s)\n",
    "if len(s)==len(s1):\n",
    "    print(True)\n",
    "else:\n",
    "    print(False)\n",
    "    \n",
    "\n"
   ]
  },
  {
   "cell_type": "code",
   "execution_count": 8,
   "id": "0dbfeca0-ffb5-4e14-a236-a9b4e6313597",
   "metadata": {},
   "outputs": [
    {
     "name": "stdout",
     "output_type": "stream",
     "text": [
      "True\n"
     ]
    }
   ],
   "source": [
    "s=\"abcd\"\n",
    "s1=\"\"\n",
    "for i in s:\n",
    "    if i not in s1:\n",
    "        s1+=i\n",
    "if s1==s:\n",
    "    print(True)\n",
    "else:\n",
    "    print(False)"
   ]
  },
  {
   "cell_type": "code",
   "execution_count": 9,
   "id": "90a66295-489a-48fe-b252-e67136b20413",
   "metadata": {},
   "outputs": [
    {
     "name": "stdout",
     "output_type": "stream",
     "text": [
      "to convert a given string to uppercase : MY STRENGTH IS MY FAMILY\n",
      "to convert a given string to lowercase :  my strength is my family\n"
     ]
    }
   ],
   "source": [
    "#Q8.Write a code to convert a given string to uppercase or lowercase.\n",
    "string=\"My strength IS mY FaMiLy\"\n",
    "print(\"to convert a given string to uppercase :\" ,string.upper())\n",
    "print(\"to convert a given string to lowercase : \" ,string.lower())"
   ]
  },
  {
   "cell_type": "code",
   "execution_count": 10,
   "id": "a29ceb39-80ff-4c24-ae2d-5ac98fe4ab60",
   "metadata": {},
   "outputs": [
    {
     "name": "stdout",
     "output_type": "stream",
     "text": [
      "3\n"
     ]
    }
   ],
   "source": [
    "#Q9. Write a code to count the number of words in a string.\n",
    "s=\"count the number\"\n",
    "count=0\n",
    "word=False\n",
    "for char in s:\n",
    "    if char!=' ':\n",
    "        if  not  word:\n",
    "            count+=1\n",
    "            word=True\n",
    "    else:\n",
    "        word=False\n",
    "print(count)\n",
    "    "
   ]
  },
  {
   "cell_type": "code",
   "execution_count": 11,
   "id": "c040f7cc-1386-4f7c-af1e-62bc41718149",
   "metadata": {},
   "outputs": [
    {
     "name": "stdout",
     "output_type": "stream",
     "text": [
      "3\n"
     ]
    }
   ],
   "source": [
    "s=\"count the number\"\n",
    "print(len(s.split()))"
   ]
  },
  {
   "cell_type": "code",
   "execution_count": 12,
   "id": "444b95ac-e074-432c-a487-631cd7e0e144",
   "metadata": {},
   "outputs": [
    {
     "name": "stdout",
     "output_type": "stream",
     "text": [
      "hellomikki\n"
     ]
    }
   ],
   "source": [
    "#Q10.Write a code to concatenate two string without using + operator\n",
    "s1=\"hello\"\n",
    "s2=\"mikki\"\n",
    "print(f\"{s1}{s2}\")"
   ]
  },
  {
   "cell_type": "code",
   "execution_count": 13,
   "id": "89299e08-3b25-40f7-ac2f-7c6b69eccb9e",
   "metadata": {},
   "outputs": [
    {
     "name": "stdin",
     "output_type": "stream",
     "text": [
      "enter the specific number: 5\n"
     ]
    },
    {
     "name": "stdout",
     "output_type": "stream",
     "text": [
      "after removing the specific element from list: [2, 3, 4, 3, 2, 3, 4, 3, 1, 2, 3, 4, 3]\n"
     ]
    }
   ],
   "source": [
    "#Q11 Write a code to remove all occurrences  of a specific element from a list.\n",
    "list1=[2,3,4,3,2,3,4,3,1,2,3,4,3]\n",
    "l=[]\n",
    "element=int(input(\"enter the specific number:\"))\n",
    "for i in list1:\n",
    "    if i!= element:\n",
    "        l.append(i)\n",
    "print(\"after removing the specific element from list:\",l)"
   ]
  },
  {
   "cell_type": "code",
   "execution_count": 14,
   "id": "0ec730cd-ef88-46a8-b157-6c853b2ab9f3",
   "metadata": {},
   "outputs": [
    {
     "name": "stdout",
     "output_type": "stream",
     "text": [
      "76\n"
     ]
    }
   ],
   "source": [
    "#Q12. Implement a code to find the second largest number in a given in the given list of integer.\n",
    "list1=[23,45,67,98,76,54,24]\n",
    "largest=0\n",
    "second_largest=0\n",
    "for i in list1:\n",
    "    if i>largest:\n",
    "        second_largest=largest\n",
    "        largest=i\n",
    "    elif largest>i>second_largest:\n",
    "        second_largest=i\n",
    "print(second_largest)\n"
   ]
  },
  {
   "cell_type": "code",
   "execution_count": 15,
   "id": "ff4b989d-60c9-4066-980c-cd91e6fc5fab",
   "metadata": {},
   "outputs": [
    {
     "name": "stdout",
     "output_type": "stream",
     "text": [
      "{2: 6, 3: 4, 4: 3, 5: 2, 6: 1, 1: 3}\n"
     ]
    }
   ],
   "source": [
    "#Q13. Create a code to count the occurence of each element in a list and return a dictionary with element as keys\n",
    "#and their count as values.\n",
    "list1=[2,3,4,5,6,2,4,3,5,4,3,2,1,2,3,2,1,1,2]\n",
    "dict1={}\n",
    "for i in list1:\n",
    "    if i in dict1:\n",
    "        dict1[i]+=1\n",
    "    else:\n",
    "        dict1[i]=1\n",
    "print(dict1)\n"
   ]
  },
  {
   "cell_type": "code",
   "execution_count": 16,
   "id": "7e4e3e6a-b088-4b88-9ac1-065e2ee777a6",
   "metadata": {},
   "outputs": [
    {
     "name": "stdout",
     "output_type": "stream",
     "text": [
      "[6, 5, 4, 3, 2, 1]\n"
     ]
    }
   ],
   "source": [
    "#Q14. Write a code to reverse a list in-place without using any built in reverse functions.\n",
    "list1=[1,2,3,4,5,6]\n",
    "print(list1[::-1])"
   ]
  },
  {
   "cell_type": "code",
   "execution_count": 17,
   "id": "8dadc33e-b9be-479f-9ebe-917f26f32d42",
   "metadata": {},
   "outputs": [
    {
     "name": "stdout",
     "output_type": "stream",
     "text": [
      "find the duplicates element from  list :  [4, 3, 5]\n",
      "after remove the duplicates element from list while perserving the original order of element :  [2, 3, 4, 5]\n"
     ]
    }
   ],
   "source": [
    "#Q15.Implement a code to find and remove duplicates from a list while perserving the original order of element.\n",
    "l=[2,3,4,5,4,3,5]\n",
    "l1=[]\n",
    "l2=[]\n",
    "for i in l:\n",
    "    if i not in l1:\n",
    "        l1.append(i)\n",
    "    else:\n",
    "        l2.append(i)\n",
    "print(\"find the duplicates element from  list : \" ,l2)\n",
    "print(\"after remove the duplicates element from list while perserving the original order of element : \",l1)\n"
   ]
  },
  {
   "cell_type": "code",
   "execution_count": 18,
   "id": "799af51c-3740-444e-8c3e-2fb2a3754500",
   "metadata": {},
   "outputs": [
    {
     "name": "stdout",
     "output_type": "stream",
     "text": [
      "True\n"
     ]
    }
   ],
   "source": [
    "#Q16. Create a code to check if a given list is sorted (either in ascending or descending order) or not\n",
    "l=[2,3,4,5,6,8]\n",
    "l1=sorted(l)\n",
    "if l==l1:\n",
    "    print(True)\n",
    "else:\n",
    "    print(False)"
   ]
  },
  {
   "cell_type": "code",
   "execution_count": 19,
   "id": "d8eadf6e-4cf1-419c-bf7a-76278485c8d5",
   "metadata": {},
   "outputs": [
    {
     "name": "stdout",
     "output_type": "stream",
     "text": [
      "True\n"
     ]
    }
   ],
   "source": [
    "l=[3,6,7]\n",
    "f=False\n",
    "for i in range(len(l)-1):\n",
    "     if i<i+1:\n",
    "        f=True\n",
    "        break\n",
    "print(f)"
   ]
  },
  {
   "cell_type": "code",
   "execution_count": 20,
   "id": "b867f104-44a1-473d-ab64-81a8922e0be0",
   "metadata": {},
   "outputs": [
    {
     "name": "stdout",
     "output_type": "stream",
     "text": [
      "first  sorted list are : [0, 1, 2, 3, 5]\n",
      "second sorted list are :  [4, 6, 7, 8, 9]\n",
      "to merger two sorted lists into a single sorted list : [0, 1, 2, 3, 4, 5, 6, 7, 8, 9]\n"
     ]
    }
   ],
   "source": [
    "#Q17.Write a code to merge two sorted lists into a single sorted list.\n",
    "list1=[2,5,0,3,1]\n",
    "list2=[4,7,8,6,9]\n",
    "list3=sorted(list1)+sorted(list2)\n",
    "print(\"first  sorted list are :\",sorted(list1))\n",
    "print(\"second sorted list are : \", sorted(list2))\n",
    "print(\"to merger two sorted lists into a single sorted list :\" ,sorted(list3))"
   ]
  },
  {
   "cell_type": "code",
   "execution_count": 21,
   "id": "0bfc0724-af46-41fd-b691-e21b27db7560",
   "metadata": {},
   "outputs": [
    {
     "name": "stdout",
     "output_type": "stream",
     "text": [
      "first list [2, 3, 4, 5, 6]\n",
      "second list [1, 2, 6, 7, 8]\n",
      "intersection of two given lists:  [2, 6]\n"
     ]
    }
   ],
   "source": [
    "#Q18. Implement a code to find the intersection of two given lists.\n",
    "list1=[2,3,4,5,6]\n",
    "list2=[1,2,6,7,8]\n",
    "set1=set(list1)\n",
    "set2=set(list2)\n",
    "print(\"first list\",list1)\n",
    "print(\"second list\",list2)\n",
    "print(\"intersection of two given lists: \",list(set1&set2))"
   ]
  },
  {
   "cell_type": "code",
   "execution_count": 22,
   "id": "005f6bee-74f5-4b02-94cb-0ad1942af490",
   "metadata": {},
   "outputs": [
    {
     "name": "stdout",
     "output_type": "stream",
     "text": [
      "union of two list: [1, 2, 4, 5, 7, 3, 6]\n"
     ]
    }
   ],
   "source": [
    "#Q19. Create a code to find the union of two list without duplicates.\n",
    "list1=[1,2,3,4,4,6]\n",
    "list2=[1,2,4,5,7]\n",
    "for i in list1:\n",
    "    if i not  in list2:\n",
    "        list2.append(i)\n",
    "print(\"union of two list:\",list2)\n",
    "        "
   ]
  },
  {
   "cell_type": "code",
   "execution_count": 38,
   "id": "586a2187-8618-4ec4-9a5b-3dd3f891558d",
   "metadata": {},
   "outputs": [
    {
     "name": "stdout",
     "output_type": "stream",
     "text": [
      "random number in list :  5\n"
     ]
    }
   ],
   "source": [
    "#Q20. Write a code to shuffle a give list randomly without using any built-in shuffle fuctions.\n",
    "import random\n",
    "def shuffle_list(input_list):\n",
    "    shuffled_list = input_list[:]\n",
    "    n = len(shuffled_list)\n",
    "    for i in range(n):\n",
    "        j= random.randint(0,n-1)\n",
    "        shuffled_list[i],shuffled_list[j]=shuffled_list[j],shuffled_list[i]\n",
    "        return shuffled_list\n",
    "my_list=[1,2,3,4,5,6,7,8]\n",
    "shuffled=shuffle_list(my_list)\n",
    "print(shuffled)"
   ]
  },
  {
   "cell_type": "code",
   "execution_count": 24,
   "id": "0eac79b9-9f3f-4b79-80be-5aedde5c1c22",
   "metadata": {},
   "outputs": [
    {
     "name": "stdout",
     "output_type": "stream",
     "text": [
      "first tuple: (2, 3, 4, 5, 6)\n",
      "second tuple: (3, 4, 2, 6, 7)\n",
      "tuple containing elements that are common to both input tuple; (2, 3, 4, 6)\n"
     ]
    }
   ],
   "source": [
    "#Q21. Write a code that takes two tuples as input and returns a new tuple containing elements\n",
    "#that are common to both  input tuple.\n",
    "tuple1=(2,3,4,5,6)\n",
    "tuple2=(3,4,2,6,7)\n",
    "set1=set(tuple1)\n",
    "set2=set(tuple2)\n",
    "tuple3=tuple(set1&set2)\n",
    "print(\"first tuple:\",tuple1)\n",
    "print(\"second tuple:\",tuple2)\n",
    "print(\"tuple containing elements that are common to both input tuple;\",tuple3)\n"
   ]
  },
  {
   "cell_type": "code",
   "execution_count": 25,
   "id": "3f943063-da21-4eb5-b4a4-6c3c258205cc",
   "metadata": {},
   "outputs": [
    {
     "name": "stdin",
     "output_type": "stream",
     "text": [
      "enter the integer of set1 : 3,4,5\n",
      "enter the integer of set2: 4,5,6\n"
     ]
    },
    {
     "name": "stdout",
     "output_type": "stream",
     "text": [
      "set1 : {3, 4, 5}\n",
      "set2 : {4, 5, 6}\n",
      "intersection of two set : {4, 5}\n"
     ]
    }
   ],
   "source": [
    "# Q22. Create a code that prompt the user to enter two sets of integers seperated by commas Then,print the \n",
    "#intersection of these two sets.\n",
    "set1=set(map(int, input(\"enter the integer of set1 :\").split(',')))\n",
    "set2=set(map(int, input(\"enter the integer of set2:\").split(',')))\n",
    "print(\"set1 :\",set1)\n",
    "print(\"set2 :\",set2)\n",
    "print(\"intersection of two set :\",set1&set2)"
   ]
  },
  {
   "cell_type": "code",
   "execution_count": 26,
   "id": "78a30be9-cf5c-4f9f-a911-a0d22efef792",
   "metadata": {},
   "outputs": [
    {
     "name": "stdout",
     "output_type": "stream",
     "text": [
      "tuple first : ('a', 'b', 'c', 'd')\n",
      "tuple second: (1, 2, 3, 4)\n",
      "concatenate ttwo tuples :  ('a', 'b', 'c', 'd', 1, 2, 3, 4)\n"
     ]
    }
   ],
   "source": [
    "#Q23 Write a code to concatenate two tuples .The fuction should take two tuples as input\n",
    "#and retrun a new tuple containing elements\n",
    "tuple1=(\"a\",\"b\",\"c\",\"d\")\n",
    "tuple2=(1,2,3,4)\n",
    "print(\"tuple first :\",tuple1)\n",
    "print(\"tuple second:\",tuple2)\n",
    "print(\"concatenate ttwo tuples : \",tuple1+tuple2)\n"
   ]
  },
  {
   "cell_type": "code",
   "execution_count": 27,
   "id": "2bb20abc-80c0-4d8e-8c6c-5c496ae6c995",
   "metadata": {},
   "outputs": [
    {
     "name": "stdin",
     "output_type": "stream",
     "text": [
      "enter the string in first set: \"ram\",\"ramv\"\n",
      "enter the string in second set: \"ram\",\"nomn\"\n"
     ]
    },
    {
     "name": "stdout",
     "output_type": "stream",
     "text": [
      "First set: {'\"ram\"', '\"ramv\"'}\n",
      "second set: {'\"ram\"', '\"nomn\"'}\n",
      "whose element are present in the first set but not in second set : {'\"ramv\"'}\n"
     ]
    }
   ],
   "source": [
    "#Q24 Develop a code that prompts the user to input two sets of strings .Then, print the elements that are present\n",
    "#in the first set but not in the second set.\n",
    "set_first=set(map(str, input(\"enter the string in first set:\").split(',')))\n",
    "set_second=set(map(str,input(\"enter the string in second set:\").split(',')))\n",
    "print(\"First set:\",set_first)\n",
    "print(\"second set:\",set_second)\n",
    "print(\"whose element are present in the first set but not in second set :\",set_first-set_second)"
   ]
  },
  {
   "cell_type": "code",
   "execution_count": 28,
   "id": "42ea351f-a1e9-4343-8ea3-1fc66a901a2c",
   "metadata": {},
   "outputs": [
    {
     "name": "stdout",
     "output_type": "stream",
     "text": [
      "original tuple within the specified range of indicies : (' index 2 : 3', ' index 3 : 3', ' index 4 : 2')\n"
     ]
    }
   ],
   "source": [
    "#Q25 Create a code that takes a tuple and two integers as input .The function should returan a new tuple containing elements\n",
    "#from the original tuple within the specified range of indicies.\n",
    "tuple1=(1,2,3,3,2,1,2,3,4,5,4,1,2,3,2,5,6,7,6,5,8,9)\n",
    "index1=2\n",
    "index2=5\n",
    "list1=[]\n",
    "for i in range(index1,index2):\n",
    "    list1.append(f\" index {i} : {tuple1[i]}\")\n",
    "new_tuple=tuple(list1)\n",
    "print(\"original tuple within the specified range of indicies :\",new_tuple)"
   ]
  },
  {
   "cell_type": "code",
   "execution_count": 29,
   "id": "56198872-6676-42bc-9d76-95062ce44ad6",
   "metadata": {},
   "outputs": [
    {
     "name": "stdin",
     "output_type": "stream",
     "text": [
      "enter the character: wer\n",
      "enter the character : ert\n"
     ]
    },
    {
     "name": "stdout",
     "output_type": "stream",
     "text": [
      "unoin of two sets : {'r', 'e', 't', 'w'}\n"
     ]
    }
   ],
   "source": [
    "#Q26 Write  code that prompts the user to input two sets of chracters .Then,print the union of these two  sets.\n",
    "set1=set(input(\"enter the character:\"))\n",
    "set2=set(input(\"enter the character :\"))\n",
    "print(\"unoin of two sets :\",set1|set2)"
   ]
  },
  {
   "cell_type": "code",
   "execution_count": 143,
   "id": "11f652ef-82ea-4b9c-aea0-7a59bd99e9c2",
   "metadata": {},
   "outputs": [
    {
     "name": "stdout",
     "output_type": "stream",
     "text": [
      "maximum number : 78 \n",
      "minimum number : 11\n"
     ]
    }
   ],
   "source": [
    "#Q27. Develop a code that takes a tuple of integers as input.The function should return the maximum and minimum values\n",
    "#from the tuple using tuple unpacking.\n",
    "def maxminnum(tuple2):\n",
    "    print(\"maximum number :\",max(tuple2),\"\\nminimum number :\",min(tuple2))\n",
    "tuple1=(33,22,11,66,78,54)\n",
    "tuple2=tuple1\n",
    "maxminnum(tuple2)\n",
    "    \n",
    "\n"
   ]
  },
  {
   "cell_type": "code",
   "execution_count": 129,
   "id": "dfa93ac2-60e8-41e0-ace1-741f532f9852",
   "metadata": {},
   "outputs": [
    {
     "name": "stdout",
     "output_type": "stream",
     "text": [
      "set1 :  {34, 3, 2, 4, 5, 67, 11, 45, 22}\n",
      "set2 :  {67, 3, 4, 5, 8, 9, 43, 47, 89}\n",
      "union of two sets :  {34, 3, 2, 4, 5, 67, 8, 9, 11, 43, 45, 47, 22, 89}\n",
      "intersections of two sets :  {3, 67, 4, 5}\n",
      "differences  of these two sets :  {34, 2, 11, 45, 22}\n"
     ]
    }
   ],
   "source": [
    "#Q28.Create a code that defines two sets of integers.Then, print the union,intersection and differences of these two sets.\n",
    "set1={2,3,4,5,34,22,11,45,67}\n",
    "set2={3,4,5,8,9,67,89,43,47}\n",
    "print(\"set1 : \",set1)\n",
    "print(\"set2 : \",set2)\n",
    "print(\"union of two sets : \",set1|set2)\n",
    "print(\"intersections of two sets : \",set1&set2)\n",
    "print(\"differences  of these two sets : \" ,set1-set2)"
   ]
  },
  {
   "cell_type": "code",
   "execution_count": 32,
   "id": "a08a20be-25d3-4b52-a7bb-c78ddf448789",
   "metadata": {},
   "outputs": [
    {
     "name": "stdout",
     "output_type": "stream",
     "text": [
      "occurrences of given element : 5\n"
     ]
    }
   ],
   "source": [
    "#Q29. Write a code that takes a tuple and an element as input .The function should return the count \n",
    "#of occurrences of the given element in tuple.\n",
    "tuple1=(3,4,5,6,7,3,4,5,4,3,7,6,4,3,2,3,4)\n",
    "print(\"occurrences of given element :\",tuple1.count(3))"
   ]
  },
  {
   "cell_type": "code",
   "execution_count": 77,
   "id": "bf738f0d-67dd-4f46-8afd-e7264e286cf7",
   "metadata": {},
   "outputs": [
    {
     "name": "stdin",
     "output_type": "stream",
     "text": [
      "enter the string of set first: 234\n",
      "enter the string of set second: 345\n"
     ]
    },
    {
     "name": "stdout",
     "output_type": "stream",
     "text": [
      "first set  {'234'}\n",
      "second set  {'345'}\n",
      "symmetric differences of these two sets :  {'234', '345'}\n"
     ]
    }
   ],
   "source": [
    "#Q30. Develop a code that prompts the user to input two sets of strings.Then, print the symmetric differencesof these \n",
    "#two sets.\n",
    "set1=set(map(str,input(\"enter the string of set first:\").split(',')))\n",
    "set2=set(map(str,input(\"enter the string of set second:\").split(',')))\n",
    "print(\"first set \",set1)\n",
    "print(\"second set \",set2)\n",
    "print(\"symmetric differences of these two sets : \", set1^set2)"
   ]
  },
  {
   "cell_type": "code",
   "execution_count": 34,
   "id": "c296a903-56a9-41fa-8bde-634126af28e3",
   "metadata": {},
   "outputs": [
    {
     "name": "stdout",
     "output_type": "stream",
     "text": [
      "{2: 2, 3: 2, 4: 2, 5: 2, 6: 2, 7: 2, 8: 1}\n"
     ]
    }
   ],
   "source": [
    "#Q31 Write a code that takes a list of words as input and returns a dicionary where the keys are unique words and the \n",
    "#values are the frequecies of those words in the input list.\n",
    "list1=[2,3,4,5,6,7,8,7,6,5,4,3,2]\n",
    "dict1={}\n",
    "for i in list1:\n",
    "    if i in dict1:\n",
    "        dict1[i]+=1\n",
    "    else:\n",
    "        dict1[i]=1\n",
    "print(dict1)"
   ]
  },
  {
   "cell_type": "code",
   "execution_count": 35,
   "id": "cc3dabd3-8dad-4b5a-afcf-561fa6556e92",
   "metadata": {},
   "outputs": [
    {
     "name": "stdout",
     "output_type": "stream",
     "text": [
      "merges them into a single dictionary : {'a': 5, 'b': 6, 'c': 6}\n"
     ]
    }
   ],
   "source": [
    "#Q32. Write a code that takes two dictionaries as input and merges them into a single dictionary .If there are coomon keys,\n",
    "# the values should be added together.\n",
    "dict1={\"a\":5,\"b\":3,\"c\":3}\n",
    "dict2={\"c\":7,\"d\":4,\"b\":4}\n",
    "merge_dict=dict1.copy()\n",
    "for key,value in dict1.items():\n",
    "    if key in dict2:\n",
    "        merge_dict[key]+=value\n",
    "    else:\n",
    "       merge_dict[key]=value\n",
    "print(\"merges them into a single dictionary :\",merge_dict)"
   ]
  },
  {
   "cell_type": "code",
   "execution_count": 52,
   "id": "0d6fd143-69b2-486f-91b1-bfc4be901b78",
   "metadata": {},
   "outputs": [
    {
     "name": "stdout",
     "output_type": "stream",
     "text": [
      "information : Vaishnavi \n",
      " 21 \n",
      " 12\n"
     ]
    }
   ],
   "source": [
    "#Q33. Write a code to access a value in a nested dictionary. The function should take the dictionary and a list of keys\n",
    "#as input and return the corresponding value.If any of the keys do not exit in the dictionary,the function should\n",
    "#return None\n",
    "people={1:{\"name\" : \"Vaishnavi\",\"age\":21, \"class\":12}}\n",
    "print(\"information :\",people[1]['name'],\"\\n\",people[1]['age'],\"\\n\",people[1]['class'])\n",
    "\n",
    "    \n",
    "    \n",
    "    \n",
    "    \n"
   ]
  },
  {
   "cell_type": "code",
   "execution_count": 1,
   "id": "ce25abc2-6069-4f75-bddf-ffb9cae10188",
   "metadata": {},
   "outputs": [
    {
     "data": {
      "text/plain": [
       "[2, 4, 4]"
      ]
     },
     "execution_count": 1,
     "metadata": {},
     "output_type": "execute_result"
    }
   ],
   "source": [
    "#Q34. Write a code that takes a dictionary as input and returns a sorte version of it based on the values .You con choose whether to sort in ascending\n",
    "#or descending order.\n",
    "dict1={\"a\":2,\"e\":3,\"c\":4,\"d\":4}\n",
    "sorted(dict1.values())"
   ]
  },
  {
   "cell_type": "code",
   "execution_count": 20,
   "id": "eceef5f2-e053-478c-9265-da4cc16e595c",
   "metadata": {},
   "outputs": [
    {
     "name": "stdout",
     "output_type": "stream",
     "text": [
      "{34: ['a'], 4: ['c'], 5: ['d']}\n"
     ]
    }
   ],
   "source": [
    "#Q35. Write a code that inverts a dictionary ,swapping keys and values. Ensure that the inverted dictionary correctly handles cases\n",
    "#where multiple keys have \n",
    "original_dict={\"a\":34,\"c\":4,\"d\":5}\n",
    "inverted_dict={}\n",
    "for key,value in original_dict.items():\n",
    "    if value in inverted_dict:\n",
    "        inverted_dict[value].append(key)\n",
    "    else:\n",
    "        inverted_dict[value]=[key]\n",
    "print(inverted_dict)\n",
    "\n",
    "\n",
    "\n"
   ]
  },
  {
   "cell_type": "code",
   "execution_count": null,
   "id": "029c5984-78b9-4dc3-8ecc-42ef2aff60c8",
   "metadata": {},
   "outputs": [],
   "source": []
  },
  {
   "cell_type": "code",
   "execution_count": null,
   "id": "4d84bd09-c753-44f7-8b13-2cf307d17c0a",
   "metadata": {},
   "outputs": [],
   "source": []
  }
 ],
 "metadata": {
  "kernelspec": {
   "display_name": "Python 3 (ipykernel)",
   "language": "python",
   "name": "python3"
  },
  "language_info": {
   "codemirror_mode": {
    "name": "ipython",
    "version": 3
   },
   "file_extension": ".py",
   "mimetype": "text/x-python",
   "name": "python",
   "nbconvert_exporter": "python",
   "pygments_lexer": "ipython3",
   "version": "3.12.4"
  }
 },
 "nbformat": 4,
 "nbformat_minor": 5
}
